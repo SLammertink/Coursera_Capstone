{
 "cells": [
  {
   "cell_type": "code",
   "execution_count": 6,
   "metadata": {},
   "outputs": [
    {
     "name": "stdout",
     "output_type": "stream",
     "text": [
      "Libraries imported.\n"
     ]
    }
   ],
   "source": [
    "import urllib.request ### import module to open the wikipedia url\n",
    "from bs4 import BeautifulSoup ### import module to make the url more readable\n",
    "import pandas as pd\n",
    "\n",
    "import numpy as np ### library to handle data in a vectorized manner\n",
    "\n",
    "import pandas as pd ### library for data analsysis\n",
    "pd.set_option('display.max_columns', None)\n",
    "pd.set_option('display.max_rows', None)\n",
    "\n",
    "import json ### library to handle JSON files\n",
    "\n",
    "from geopy.geocoders import Nominatim # convert an address into latitude and longitude values\n",
    "\n",
    "import requests ### library to handle requests\n",
    "from pandas.io.json import json_normalize # tranform JSON file into a pandas dataframe\n",
    "\n",
    "### Matplotlib and associated plotting modules\n",
    "import matplotlib.cm as cm\n",
    "import matplotlib.colors as colors\n",
    "\n",
    "### import k-means from clustering stage\n",
    "from sklearn.cluster import KMeans\n",
    "\n",
    "import folium ### map rendering library\n",
    "\n",
    "print('Libraries imported.')"
   ]
  },
  {
   "cell_type": "code",
   "execution_count": 7,
   "metadata": {},
   "outputs": [],
   "source": [
    "### Open the Wikipedia page as URL:\n",
    "url = \"https://en.wikipedia.org/wiki/List_of_postal_codes_of_Canada:_M\"\n",
    "page = urllib.request.urlopen(url)"
   ]
  },
  {
   "cell_type": "code",
   "execution_count": 8,
   "metadata": {},
   "outputs": [],
   "source": [
    "soup = BeautifulSoup(page, \"lxml\")"
   ]
  },
  {
   "cell_type": "code",
   "execution_count": 9,
   "metadata": {},
   "outputs": [],
   "source": [
    "### I hashtaggede it since it creates a massive file\n",
    "#print(soup.prettify())"
   ]
  },
  {
   "cell_type": "code",
   "execution_count": 10,
   "metadata": {},
   "outputs": [],
   "source": [
    "### Find the table we are looking for:\n",
    "toronto_table = soup.find(\"table\" ,class_='wikitable sortable')\n",
    "#toronto_table"
   ]
  },
  {
   "cell_type": "code",
   "execution_count": 11,
   "metadata": {},
   "outputs": [],
   "source": [
    "### Create three empy lists to fill with the data from the toronto_table:\n",
    "PC_list=[]\n",
    "Borough_list=[]\n",
    "Neighborhood_list=[]\n",
    "\n",
    "### Loop trough the toronto_table and fill the three list with data:\n",
    "for row in toronto_table.findAll('tr'):\n",
    "    cells=row.findAll('td')\n",
    "    if len(cells)==3:\n",
    "        PC_list.append(cells[0].find(text=True))\n",
    "        Borough_list.append(cells[1].find(text=True))\n",
    "        Neighborhood_list.append(cells[2].find(text=True))"
   ]
  },
  {
   "cell_type": "code",
   "execution_count": 12,
   "metadata": {},
   "outputs": [
    {
     "data": {
      "text/plain": [
       "(180, 3)"
      ]
     },
     "execution_count": 12,
     "metadata": {},
     "output_type": "execute_result"
    }
   ],
   "source": [
    "### Create the dataframe from the three lists:\n",
    "df = pd.DataFrame(PC_list,columns=['PostalCode'])\n",
    "df['Borough']=Borough_list\n",
    "df['Neighborhood']=Neighborhood_list\n",
    "df.shape\n"
   ]
  },
  {
   "cell_type": "code",
   "execution_count": 13,
   "metadata": {},
   "outputs": [
    {
     "data": {
      "text/html": [
       "<div>\n",
       "<style scoped>\n",
       "    .dataframe tbody tr th:only-of-type {\n",
       "        vertical-align: middle;\n",
       "    }\n",
       "\n",
       "    .dataframe tbody tr th {\n",
       "        vertical-align: top;\n",
       "    }\n",
       "\n",
       "    .dataframe thead th {\n",
       "        text-align: right;\n",
       "    }\n",
       "</style>\n",
       "<table border=\"1\" class=\"dataframe\">\n",
       "  <thead>\n",
       "    <tr style=\"text-align: right;\">\n",
       "      <th></th>\n",
       "      <th>PostalCode</th>\n",
       "      <th>Borough</th>\n",
       "      <th>Neighborhood</th>\n",
       "    </tr>\n",
       "  </thead>\n",
       "  <tbody>\n",
       "    <tr>\n",
       "      <th>2</th>\n",
       "      <td>M3A</td>\n",
       "      <td>North York</td>\n",
       "      <td>Parkwoods</td>\n",
       "    </tr>\n",
       "    <tr>\n",
       "      <th>3</th>\n",
       "      <td>M4A</td>\n",
       "      <td>North York</td>\n",
       "      <td>Victoria Village</td>\n",
       "    </tr>\n",
       "    <tr>\n",
       "      <th>4</th>\n",
       "      <td>M5A</td>\n",
       "      <td>Downtown Toronto</td>\n",
       "      <td>Regent Park, Harbourfront</td>\n",
       "    </tr>\n",
       "    <tr>\n",
       "      <th>5</th>\n",
       "      <td>M6A</td>\n",
       "      <td>North York</td>\n",
       "      <td>Lawrence Manor, Lawrence Heights</td>\n",
       "    </tr>\n",
       "    <tr>\n",
       "      <th>6</th>\n",
       "      <td>M7A</td>\n",
       "      <td>Downtown Toronto</td>\n",
       "      <td>Queen's Park, Ontario Provincial Government</td>\n",
       "    </tr>\n",
       "  </tbody>\n",
       "</table>\n",
       "</div>"
      ],
      "text/plain": [
       "  PostalCode           Borough                                 Neighborhood\n",
       "2        M3A        North York                                    Parkwoods\n",
       "3        M4A        North York                             Victoria Village\n",
       "4        M5A  Downtown Toronto                    Regent Park, Harbourfront\n",
       "5        M6A        North York             Lawrence Manor, Lawrence Heights\n",
       "6        M7A  Downtown Toronto  Queen's Park, Ontario Provincial Government"
      ]
     },
     "execution_count": 13,
     "metadata": {},
     "output_type": "execute_result"
    }
   ],
   "source": [
    "### Clean the \\n form the dataframe:\n",
    "df=df.replace({'\\n': ''}, regex=True) \n",
    "### Clean the dataframe where the Borough is 'Not assigned':\n",
    "df = df[df['Borough'] != 'Not assigned']\n",
    "df.head()"
   ]
  },
  {
   "cell_type": "code",
   "execution_count": 14,
   "metadata": {},
   "outputs": [
    {
     "data": {
      "text/plain": [
       "(103, 3)"
      ]
     },
     "execution_count": 14,
     "metadata": {},
     "output_type": "execute_result"
    }
   ],
   "source": [
    "df.shape"
   ]
  },
  {
   "cell_type": "code",
   "execution_count": 15,
   "metadata": {},
   "outputs": [
    {
     "data": {
      "text/html": [
       "<div>\n",
       "<style scoped>\n",
       "    .dataframe tbody tr th:only-of-type {\n",
       "        vertical-align: middle;\n",
       "    }\n",
       "\n",
       "    .dataframe tbody tr th {\n",
       "        vertical-align: top;\n",
       "    }\n",
       "\n",
       "    .dataframe thead th {\n",
       "        text-align: right;\n",
       "    }\n",
       "</style>\n",
       "<table border=\"1\" class=\"dataframe\">\n",
       "  <thead>\n",
       "    <tr style=\"text-align: right;\">\n",
       "      <th></th>\n",
       "      <th>PostalCode</th>\n",
       "      <th>Latitude</th>\n",
       "      <th>Longitude</th>\n",
       "    </tr>\n",
       "  </thead>\n",
       "  <tbody>\n",
       "    <tr>\n",
       "      <th>0</th>\n",
       "      <td>M1B</td>\n",
       "      <td>43.806686</td>\n",
       "      <td>-79.194353</td>\n",
       "    </tr>\n",
       "    <tr>\n",
       "      <th>1</th>\n",
       "      <td>M1C</td>\n",
       "      <td>43.784535</td>\n",
       "      <td>-79.160497</td>\n",
       "    </tr>\n",
       "    <tr>\n",
       "      <th>2</th>\n",
       "      <td>M1E</td>\n",
       "      <td>43.763573</td>\n",
       "      <td>-79.188711</td>\n",
       "    </tr>\n",
       "    <tr>\n",
       "      <th>3</th>\n",
       "      <td>M1G</td>\n",
       "      <td>43.770992</td>\n",
       "      <td>-79.216917</td>\n",
       "    </tr>\n",
       "    <tr>\n",
       "      <th>4</th>\n",
       "      <td>M1H</td>\n",
       "      <td>43.773136</td>\n",
       "      <td>-79.239476</td>\n",
       "    </tr>\n",
       "  </tbody>\n",
       "</table>\n",
       "</div>"
      ],
      "text/plain": [
       "  PostalCode   Latitude  Longitude\n",
       "0        M1B  43.806686 -79.194353\n",
       "1        M1C  43.784535 -79.160497\n",
       "2        M1E  43.763573 -79.188711\n",
       "3        M1G  43.770992 -79.216917\n",
       "4        M1H  43.773136 -79.239476"
      ]
     },
     "execution_count": 15,
     "metadata": {},
     "output_type": "execute_result"
    }
   ],
   "source": [
    "### The geocode did not work so I will be using the Geospation file:\n",
    "df_latlon = pd.read_csv('Geospatial_Coordinates.csv')\n",
    "df_latlon.rename(columns = {'Postal Code' : 'PostalCode'}, inplace=True)\n",
    "df_latlon.head()"
   ]
  },
  {
   "cell_type": "code",
   "execution_count": 16,
   "metadata": {},
   "outputs": [
    {
     "data": {
      "text/html": [
       "<div>\n",
       "<style scoped>\n",
       "    .dataframe tbody tr th:only-of-type {\n",
       "        vertical-align: middle;\n",
       "    }\n",
       "\n",
       "    .dataframe tbody tr th {\n",
       "        vertical-align: top;\n",
       "    }\n",
       "\n",
       "    .dataframe thead th {\n",
       "        text-align: right;\n",
       "    }\n",
       "</style>\n",
       "<table border=\"1\" class=\"dataframe\">\n",
       "  <thead>\n",
       "    <tr style=\"text-align: right;\">\n",
       "      <th></th>\n",
       "      <th>PostalCode</th>\n",
       "      <th>Borough</th>\n",
       "      <th>Neighborhood</th>\n",
       "      <th>Latitude</th>\n",
       "      <th>Longitude</th>\n",
       "    </tr>\n",
       "  </thead>\n",
       "  <tbody>\n",
       "    <tr>\n",
       "      <th>0</th>\n",
       "      <td>M3A</td>\n",
       "      <td>North York</td>\n",
       "      <td>Parkwoods</td>\n",
       "      <td>43.753259</td>\n",
       "      <td>-79.329656</td>\n",
       "    </tr>\n",
       "    <tr>\n",
       "      <th>1</th>\n",
       "      <td>M4A</td>\n",
       "      <td>North York</td>\n",
       "      <td>Victoria Village</td>\n",
       "      <td>43.725882</td>\n",
       "      <td>-79.315572</td>\n",
       "    </tr>\n",
       "    <tr>\n",
       "      <th>2</th>\n",
       "      <td>M5A</td>\n",
       "      <td>Downtown Toronto</td>\n",
       "      <td>Regent Park, Harbourfront</td>\n",
       "      <td>43.654260</td>\n",
       "      <td>-79.360636</td>\n",
       "    </tr>\n",
       "    <tr>\n",
       "      <th>3</th>\n",
       "      <td>M6A</td>\n",
       "      <td>North York</td>\n",
       "      <td>Lawrence Manor, Lawrence Heights</td>\n",
       "      <td>43.718518</td>\n",
       "      <td>-79.464763</td>\n",
       "    </tr>\n",
       "    <tr>\n",
       "      <th>4</th>\n",
       "      <td>M7A</td>\n",
       "      <td>Downtown Toronto</td>\n",
       "      <td>Queen's Park, Ontario Provincial Government</td>\n",
       "      <td>43.662301</td>\n",
       "      <td>-79.389494</td>\n",
       "    </tr>\n",
       "  </tbody>\n",
       "</table>\n",
       "</div>"
      ],
      "text/plain": [
       "  PostalCode           Borough                                 Neighborhood  \\\n",
       "0        M3A        North York                                    Parkwoods   \n",
       "1        M4A        North York                             Victoria Village   \n",
       "2        M5A  Downtown Toronto                    Regent Park, Harbourfront   \n",
       "3        M6A        North York             Lawrence Manor, Lawrence Heights   \n",
       "4        M7A  Downtown Toronto  Queen's Park, Ontario Provincial Government   \n",
       "\n",
       "    Latitude  Longitude  \n",
       "0  43.753259 -79.329656  \n",
       "1  43.725882 -79.315572  \n",
       "2  43.654260 -79.360636  \n",
       "3  43.718518 -79.464763  \n",
       "4  43.662301 -79.389494  "
      ]
     },
     "execution_count": 16,
     "metadata": {},
     "output_type": "execute_result"
    }
   ],
   "source": [
    "### Now we merge the two dataframes on 'PostalCode':\n",
    "df_neigh = pd.merge(df, df_latlon, left_on='PostalCode', right_on='PostalCode')\n",
    "df_neigh.head()"
   ]
  },
  {
   "cell_type": "code",
   "execution_count": 17,
   "metadata": {},
   "outputs": [
    {
     "data": {
      "text/html": [
       "<div>\n",
       "<style scoped>\n",
       "    .dataframe tbody tr th:only-of-type {\n",
       "        vertical-align: middle;\n",
       "    }\n",
       "\n",
       "    .dataframe tbody tr th {\n",
       "        vertical-align: top;\n",
       "    }\n",
       "\n",
       "    .dataframe thead th {\n",
       "        text-align: right;\n",
       "    }\n",
       "</style>\n",
       "<table border=\"1\" class=\"dataframe\">\n",
       "  <thead>\n",
       "    <tr style=\"text-align: right;\">\n",
       "      <th></th>\n",
       "      <th>PostalCode</th>\n",
       "      <th>Borough</th>\n",
       "      <th>Neighborhood</th>\n",
       "      <th>Latitude</th>\n",
       "      <th>Longitude</th>\n",
       "    </tr>\n",
       "  </thead>\n",
       "  <tbody>\n",
       "    <tr>\n",
       "      <th>0</th>\n",
       "      <td>M3A</td>\n",
       "      <td>North York</td>\n",
       "      <td>Parkwoods</td>\n",
       "      <td>43.753259</td>\n",
       "      <td>-79.329656</td>\n",
       "    </tr>\n",
       "    <tr>\n",
       "      <th>1</th>\n",
       "      <td>M4A</td>\n",
       "      <td>North York</td>\n",
       "      <td>Victoria Village</td>\n",
       "      <td>43.725882</td>\n",
       "      <td>-79.315572</td>\n",
       "    </tr>\n",
       "    <tr>\n",
       "      <th>2</th>\n",
       "      <td>M5A</td>\n",
       "      <td>Downtown Toronto</td>\n",
       "      <td>Regent Park, Harbourfront</td>\n",
       "      <td>43.654260</td>\n",
       "      <td>-79.360636</td>\n",
       "    </tr>\n",
       "    <tr>\n",
       "      <th>3</th>\n",
       "      <td>M6A</td>\n",
       "      <td>North York</td>\n",
       "      <td>Lawrence Manor, Lawrence Heights</td>\n",
       "      <td>43.718518</td>\n",
       "      <td>-79.464763</td>\n",
       "    </tr>\n",
       "    <tr>\n",
       "      <th>4</th>\n",
       "      <td>M7A</td>\n",
       "      <td>Downtown Toronto</td>\n",
       "      <td>Queen's Park, Ontario Provincial Government</td>\n",
       "      <td>43.662301</td>\n",
       "      <td>-79.389494</td>\n",
       "    </tr>\n",
       "  </tbody>\n",
       "</table>\n",
       "</div>"
      ],
      "text/plain": [
       "  PostalCode           Borough                                 Neighborhood  \\\n",
       "0        M3A        North York                                    Parkwoods   \n",
       "1        M4A        North York                             Victoria Village   \n",
       "2        M5A  Downtown Toronto                    Regent Park, Harbourfront   \n",
       "3        M6A        North York             Lawrence Manor, Lawrence Heights   \n",
       "4        M7A  Downtown Toronto  Queen's Park, Ontario Provincial Government   \n",
       "\n",
       "    Latitude  Longitude  \n",
       "0  43.753259 -79.329656  \n",
       "1  43.725882 -79.315572  \n",
       "2  43.654260 -79.360636  \n",
       "3  43.718518 -79.464763  \n",
       "4  43.662301 -79.389494  "
      ]
     },
     "execution_count": 17,
     "metadata": {},
     "output_type": "execute_result"
    }
   ],
   "source": [
    "### Drop the second Postal Code row:\n",
    "#df_neigh.drop('PostalCode', axis=1, inplace=True)\n",
    "df_neigh.head()"
   ]
  },
  {
   "cell_type": "code",
   "execution_count": 18,
   "metadata": {},
   "outputs": [],
   "source": [
    "df_neigh['Total'] = 1\n",
    "df_borough = df_neigh.groupby('Borough', sort=True, as_index = False).sum()\n",
    "df_borough.drop(['Latitude', 'Longitude'], axis=1, inplace = True)"
   ]
  },
  {
   "cell_type": "code",
   "execution_count": 19,
   "metadata": {},
   "outputs": [
    {
     "data": {
      "text/plain": [
       "10"
      ]
     },
     "execution_count": 19,
     "metadata": {},
     "output_type": "execute_result"
    }
   ],
   "source": [
    "len(df_borough)"
   ]
  },
  {
   "cell_type": "code",
   "execution_count": 20,
   "metadata": {},
   "outputs": [
    {
     "data": {
      "text/html": [
       "<div>\n",
       "<style scoped>\n",
       "    .dataframe tbody tr th:only-of-type {\n",
       "        vertical-align: middle;\n",
       "    }\n",
       "\n",
       "    .dataframe tbody tr th {\n",
       "        vertical-align: top;\n",
       "    }\n",
       "\n",
       "    .dataframe thead th {\n",
       "        text-align: right;\n",
       "    }\n",
       "</style>\n",
       "<table border=\"1\" class=\"dataframe\">\n",
       "  <thead>\n",
       "    <tr style=\"text-align: right;\">\n",
       "      <th></th>\n",
       "      <th>Borough</th>\n",
       "      <th>Total</th>\n",
       "    </tr>\n",
       "  </thead>\n",
       "  <tbody>\n",
       "    <tr>\n",
       "      <th>0</th>\n",
       "      <td>Central Toronto</td>\n",
       "      <td>9</td>\n",
       "    </tr>\n",
       "    <tr>\n",
       "      <th>1</th>\n",
       "      <td>Downtown Toronto</td>\n",
       "      <td>19</td>\n",
       "    </tr>\n",
       "    <tr>\n",
       "      <th>2</th>\n",
       "      <td>East Toronto</td>\n",
       "      <td>5</td>\n",
       "    </tr>\n",
       "    <tr>\n",
       "      <th>3</th>\n",
       "      <td>East York</td>\n",
       "      <td>5</td>\n",
       "    </tr>\n",
       "    <tr>\n",
       "      <th>4</th>\n",
       "      <td>Etobicoke</td>\n",
       "      <td>12</td>\n",
       "    </tr>\n",
       "    <tr>\n",
       "      <th>5</th>\n",
       "      <td>Mississauga</td>\n",
       "      <td>1</td>\n",
       "    </tr>\n",
       "    <tr>\n",
       "      <th>6</th>\n",
       "      <td>North York</td>\n",
       "      <td>24</td>\n",
       "    </tr>\n",
       "    <tr>\n",
       "      <th>7</th>\n",
       "      <td>Scarborough</td>\n",
       "      <td>17</td>\n",
       "    </tr>\n",
       "    <tr>\n",
       "      <th>8</th>\n",
       "      <td>West Toronto</td>\n",
       "      <td>6</td>\n",
       "    </tr>\n",
       "    <tr>\n",
       "      <th>9</th>\n",
       "      <td>York</td>\n",
       "      <td>5</td>\n",
       "    </tr>\n",
       "  </tbody>\n",
       "</table>\n",
       "</div>"
      ],
      "text/plain": [
       "            Borough  Total\n",
       "0   Central Toronto      9\n",
       "1  Downtown Toronto     19\n",
       "2      East Toronto      5\n",
       "3         East York      5\n",
       "4         Etobicoke     12\n",
       "5       Mississauga      1\n",
       "6        North York     24\n",
       "7       Scarborough     17\n",
       "8      West Toronto      6\n",
       "9              York      5"
      ]
     },
     "execution_count": 20,
     "metadata": {},
     "output_type": "execute_result"
    }
   ],
   "source": [
    "## So we found 10 Boroughs\n",
    "df_borough['Total'] = df_borough['Total'].astype(int)\n",
    "df_borough"
   ]
  },
  {
   "cell_type": "code",
   "execution_count": 21,
   "metadata": {},
   "outputs": [
    {
     "data": {
      "text/html": [
       "<div>\n",
       "<style scoped>\n",
       "    .dataframe tbody tr th:only-of-type {\n",
       "        vertical-align: middle;\n",
       "    }\n",
       "\n",
       "    .dataframe tbody tr th {\n",
       "        vertical-align: top;\n",
       "    }\n",
       "\n",
       "    .dataframe thead th {\n",
       "        text-align: right;\n",
       "    }\n",
       "</style>\n",
       "<table border=\"1\" class=\"dataframe\">\n",
       "  <thead>\n",
       "    <tr style=\"text-align: right;\">\n",
       "      <th></th>\n",
       "      <th>Borough</th>\n",
       "      <th>Neighborhood</th>\n",
       "      <th>Latitude</th>\n",
       "      <th>Longitude</th>\n",
       "      <th>Total</th>\n",
       "    </tr>\n",
       "  </thead>\n",
       "  <tbody>\n",
       "    <tr>\n",
       "      <th>0</th>\n",
       "      <td>North York</td>\n",
       "      <td>Parkwoods</td>\n",
       "      <td>43.753259</td>\n",
       "      <td>-79.329656</td>\n",
       "      <td>1</td>\n",
       "    </tr>\n",
       "    <tr>\n",
       "      <th>1</th>\n",
       "      <td>North York</td>\n",
       "      <td>Victoria Village</td>\n",
       "      <td>43.725882</td>\n",
       "      <td>-79.315572</td>\n",
       "      <td>1</td>\n",
       "    </tr>\n",
       "    <tr>\n",
       "      <th>2</th>\n",
       "      <td>Downtown Toronto</td>\n",
       "      <td>Regent Park, Harbourfront</td>\n",
       "      <td>43.654260</td>\n",
       "      <td>-79.360636</td>\n",
       "      <td>1</td>\n",
       "    </tr>\n",
       "    <tr>\n",
       "      <th>3</th>\n",
       "      <td>North York</td>\n",
       "      <td>Lawrence Manor, Lawrence Heights</td>\n",
       "      <td>43.718518</td>\n",
       "      <td>-79.464763</td>\n",
       "      <td>1</td>\n",
       "    </tr>\n",
       "    <tr>\n",
       "      <th>4</th>\n",
       "      <td>Downtown Toronto</td>\n",
       "      <td>Queen's Park, Ontario Provincial Government</td>\n",
       "      <td>43.662301</td>\n",
       "      <td>-79.389494</td>\n",
       "      <td>1</td>\n",
       "    </tr>\n",
       "  </tbody>\n",
       "</table>\n",
       "</div>"
      ],
      "text/plain": [
       "            Borough                                 Neighborhood   Latitude  \\\n",
       "0        North York                                    Parkwoods  43.753259   \n",
       "1        North York                             Victoria Village  43.725882   \n",
       "2  Downtown Toronto                    Regent Park, Harbourfront  43.654260   \n",
       "3        North York             Lawrence Manor, Lawrence Heights  43.718518   \n",
       "4  Downtown Toronto  Queen's Park, Ontario Provincial Government  43.662301   \n",
       "\n",
       "   Longitude  Total  \n",
       "0 -79.329656      1  \n",
       "1 -79.315572      1  \n",
       "2 -79.360636      1  \n",
       "3 -79.464763      1  \n",
       "4 -79.389494      1  "
      ]
     },
     "execution_count": 21,
     "metadata": {},
     "output_type": "execute_result"
    }
   ],
   "source": [
    "df_neigh.drop('PostalCode', axis=1, inplace=True)\n",
    "df_neigh.head()"
   ]
  },
  {
   "cell_type": "code",
   "execution_count": 22,
   "metadata": {},
   "outputs": [
    {
     "name": "stdout",
     "output_type": "stream",
     "text": [
      "The dataframe has 10 boroughs and 103 neighborhoods.\n"
     ]
    }
   ],
   "source": [
    "print('The dataframe has {} boroughs and {} neighborhoods.'.format(\n",
    "        len(df_neigh['Borough'].unique()),\n",
    "        df_neigh.shape[0]\n",
    "    )\n",
    ")"
   ]
  },
  {
   "cell_type": "code",
   "execution_count": 23,
   "metadata": {},
   "outputs": [
    {
     "name": "stdout",
     "output_type": "stream",
     "text": [
      "The geograpical coordinates of Toronto are 43.6534817, -79.3839347.\n"
     ]
    }
   ],
   "source": [
    "from geopy import Nominatim\n",
    "import folium\n",
    "address = 'Toronto, CA'\n",
    "\n",
    "geolocator = Nominatim(user_agent=\"toronto_explorer\")\n",
    "location = geolocator.geocode(address)\n",
    "latitude = location.latitude\n",
    "longitude = location.longitude\n",
    "print('The geograpical coordinates of Toronto are {}, {}.'.format(latitude, longitude))"
   ]
  },
  {
   "cell_type": "code",
   "execution_count": 24,
   "metadata": {},
   "outputs": [
    {
     "data": {
      "text/html": [
       "<div style=\"width:100%;\"><div style=\"position:relative;width:100%;height:0;padding-bottom:60%;\"><span style=\"color:#565656\">Make this Notebook Trusted to load map: File -> Trust Notebook</span><iframe src=\"about:blank\" style=\"position:absolute;width:100%;height:100%;left:0;top:0;border:none !important;\" data-html=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 onload=\"this.contentDocument.open();this.contentDocument.write(atob(this.getAttribute('data-html')));this.contentDocument.close();\" allowfullscreen webkitallowfullscreen mozallowfullscreen></iframe></div></div>"
      ],
      "text/plain": [
       "<folium.folium.Map at 0x7f0254b37a60>"
      ]
     },
     "execution_count": 24,
     "metadata": {},
     "output_type": "execute_result"
    }
   ],
   "source": [
    "# create map of Toronto using latitude and longitude values\n",
    "map_toronto = folium.Map(location=[latitude, longitude], zoom_start=10)\n",
    "\n",
    "# add markers to map\n",
    "for lat, lng, borough, neighborhood in zip(df_neigh['Latitude'], df_neigh['Longitude'], df_neigh['Borough'], df_neigh['Neighborhood']):\n",
    "    label = '{}, {}'.format(neighborhood, borough)\n",
    "    label = folium.Popup(label, parse_html=True)\n",
    "    folium.CircleMarker(\n",
    "        [lat, lng],\n",
    "        radius=5,\n",
    "        popup=label,\n",
    "        color='blue',\n",
    "        fill=True,\n",
    "        fill_color='#3186cc',\n",
    "        fill_opacity=0.5,\n",
    "        parse_html=False).add_to(map_toronto)  \n",
    "    \n",
    "map_toronto"
   ]
  },
  {
   "cell_type": "markdown",
   "metadata": {},
   "source": [
    "<h2>Cluster Neighborhoods</h2>"
   ]
  },
  {
   "cell_type": "code",
   "execution_count": 25,
   "metadata": {},
   "outputs": [
    {
     "name": "stdout",
     "output_type": "stream",
     "text": [
      "Your credentails:\n",
      "CLIENT_ID: QQAYS1A3THK0SQXOIY0LAMIWQFNH0CHIBZU5Y1LCFL4ZX3OE\n",
      "CLIENT_SECRET:YXH1VERSJN2YVK2T22HBTQHXRQJGDWKNV3HRKSXGSRIRLQGO\n"
     ]
    }
   ],
   "source": [
    "CLIENT_ID = 'QQAYS1A3THK0SQXOIY0LAMIWQFNH0CHIBZU5Y1LCFL4ZX3OE' # your Foursquare ID\n",
    "CLIENT_SECRET = 'YXH1VERSJN2YVK2T22HBTQHXRQJGDWKNV3HRKSXGSRIRLQGO' # your Foursquare Secret\n",
    "VERSION = '20200525' # Foursquare API version\n",
    "\n",
    "print('Your credentails:')\n",
    "print('CLIENT_ID: ' + CLIENT_ID)\n",
    "print('CLIENT_SECRET:' + CLIENT_SECRET)"
   ]
  },
  {
   "cell_type": "code",
   "execution_count": 26,
   "metadata": {},
   "outputs": [
    {
     "data": {
      "text/html": [
       "<div>\n",
       "<style scoped>\n",
       "    .dataframe tbody tr th:only-of-type {\n",
       "        vertical-align: middle;\n",
       "    }\n",
       "\n",
       "    .dataframe tbody tr th {\n",
       "        vertical-align: top;\n",
       "    }\n",
       "\n",
       "    .dataframe thead th {\n",
       "        text-align: right;\n",
       "    }\n",
       "</style>\n",
       "<table border=\"1\" class=\"dataframe\">\n",
       "  <thead>\n",
       "    <tr style=\"text-align: right;\">\n",
       "      <th></th>\n",
       "      <th>Borough</th>\n",
       "      <th>Neighborhood</th>\n",
       "      <th>Latitude</th>\n",
       "      <th>Longitude</th>\n",
       "      <th>Total</th>\n",
       "    </tr>\n",
       "  </thead>\n",
       "  <tbody>\n",
       "    <tr>\n",
       "      <th>0</th>\n",
       "      <td>Downtown Toronto</td>\n",
       "      <td>Regent Park, Harbourfront</td>\n",
       "      <td>43.654260</td>\n",
       "      <td>-79.360636</td>\n",
       "      <td>1</td>\n",
       "    </tr>\n",
       "    <tr>\n",
       "      <th>1</th>\n",
       "      <td>Downtown Toronto</td>\n",
       "      <td>Queen's Park, Ontario Provincial Government</td>\n",
       "      <td>43.662301</td>\n",
       "      <td>-79.389494</td>\n",
       "      <td>1</td>\n",
       "    </tr>\n",
       "    <tr>\n",
       "      <th>2</th>\n",
       "      <td>Downtown Toronto</td>\n",
       "      <td>Garden District, Ryerson</td>\n",
       "      <td>43.657162</td>\n",
       "      <td>-79.378937</td>\n",
       "      <td>1</td>\n",
       "    </tr>\n",
       "    <tr>\n",
       "      <th>3</th>\n",
       "      <td>Downtown Toronto</td>\n",
       "      <td>St. James Town</td>\n",
       "      <td>43.651494</td>\n",
       "      <td>-79.375418</td>\n",
       "      <td>1</td>\n",
       "    </tr>\n",
       "    <tr>\n",
       "      <th>4</th>\n",
       "      <td>East Toronto</td>\n",
       "      <td>The Beaches</td>\n",
       "      <td>43.676357</td>\n",
       "      <td>-79.293031</td>\n",
       "      <td>1</td>\n",
       "    </tr>\n",
       "  </tbody>\n",
       "</table>\n",
       "</div>"
      ],
      "text/plain": [
       "            Borough                                 Neighborhood   Latitude  \\\n",
       "0  Downtown Toronto                    Regent Park, Harbourfront  43.654260   \n",
       "1  Downtown Toronto  Queen's Park, Ontario Provincial Government  43.662301   \n",
       "2  Downtown Toronto                     Garden District, Ryerson  43.657162   \n",
       "3  Downtown Toronto                               St. James Town  43.651494   \n",
       "4      East Toronto                                  The Beaches  43.676357   \n",
       "\n",
       "   Longitude  Total  \n",
       "0 -79.360636      1  \n",
       "1 -79.389494      1  \n",
       "2 -79.378937      1  \n",
       "3 -79.375418      1  \n",
       "4 -79.293031      1  "
      ]
     },
     "execution_count": 26,
     "metadata": {},
     "output_type": "execute_result"
    }
   ],
   "source": [
    "toronto_data = df_neigh[df_neigh['Borough'].str.contains('Toronto')].reset_index(drop=True)\n",
    "toronto_data.head()"
   ]
  },
  {
   "cell_type": "code",
   "execution_count": 27,
   "metadata": {},
   "outputs": [
    {
     "name": "stdout",
     "output_type": "stream",
     "text": [
      "The geograpical coordinates of Toronto are 43.6534817, -79.3839347.\n"
     ]
    }
   ],
   "source": [
    "address = 'Toronto, CA'\n",
    "\n",
    "geolocator = Nominatim(user_agent=\"to_explorer\")\n",
    "location = geolocator.geocode(address)\n",
    "latitude = location.latitude\n",
    "longitude = location.longitude\n",
    "print('The geograpical coordinates of Toronto are {}, {}.'.format(latitude, longitude))"
   ]
  },
  {
   "cell_type": "code",
   "execution_count": 28,
   "metadata": {},
   "outputs": [
    {
     "name": "stdout",
     "output_type": "stream",
     "text": [
      "Latitude and longitude values of Regent Park, Harbourfront are 43.6542599, -79.3606359.\n"
     ]
    }
   ],
   "source": [
    "neighborhood_latitude = toronto_data.loc[0, 'Latitude'] # neighborhood latitude value\n",
    "neighborhood_longitude = toronto_data.loc[0, 'Longitude'] # neighborhood longitude value\n",
    "\n",
    "neighborhood_name = toronto_data.loc[0, 'Neighborhood'] # neighborhood name\n",
    "\n",
    "print('Latitude and longitude values of {} are {}, {}.'.format(neighborhood_name, \n",
    "                                                               neighborhood_latitude, \n",
    "                                                               neighborhood_longitude))"
   ]
  },
  {
   "cell_type": "code",
   "execution_count": 29,
   "metadata": {},
   "outputs": [
    {
     "data": {
      "text/plain": [
       "'https://api.foursquare.com/v2/venues/explore?&client_id=QQAYS1A3THK0SQXOIY0LAMIWQFNH0CHIBZU5Y1LCFL4ZX3OE&client_secret=YXH1VERSJN2YVK2T22HBTQHXRQJGDWKNV3HRKSXGSRIRLQGO&v=20200525&ll=43.6542599,-79.3606359&radius=500&limit=100'"
      ]
     },
     "execution_count": 29,
     "metadata": {},
     "output_type": "execute_result"
    }
   ],
   "source": [
    "LIMIT = 100\n",
    "radius = 500\n",
    "\n",
    "url = 'https://api.foursquare.com/v2/venues/explore?&client_id={}&client_secret={}&v={}&ll={},{}&radius={}&limit={}'.format(\n",
    "    CLIENT_ID, \n",
    "    CLIENT_SECRET, \n",
    "    VERSION, \n",
    "    neighborhood_latitude, \n",
    "    neighborhood_longitude, \n",
    "    radius, \n",
    "    LIMIT)\n",
    "url"
   ]
  },
  {
   "cell_type": "code",
   "execution_count": null,
   "metadata": {},
   "outputs": [],
   "source": [
    "results = requests.get(url).json()\n",
    "results"
   ]
  },
  {
   "cell_type": "code",
   "execution_count": null,
   "metadata": {},
   "outputs": [],
   "source": [
    "# function that extracts the category of the venue\n",
    "def get_category_type(row):\n",
    "    try:\n",
    "        categories_list = row['categories']\n",
    "    except:\n",
    "        categories_list = row['venue.categories']\n",
    "        \n",
    "    if len(categories_list) == 0:\n",
    "        return None\n",
    "    else:\n",
    "        return categories_list[0]['name']"
   ]
  },
  {
   "cell_type": "code",
   "execution_count": null,
   "metadata": {},
   "outputs": [],
   "source": [
    "venues = results['response']['groups'][0]['items']\n",
    "    \n",
    "nearby_venues = json_normalize(venues) # flatten JSON\n",
    "\n",
    "# filter columns\n",
    "filtered_columns = ['venue.name', 'venue.categories', 'venue.location.lat', 'venue.location.lng']\n",
    "nearby_venues =nearby_venues.loc[:, filtered_columns]\n",
    "\n",
    "# filter the category for each row\n",
    "nearby_venues['venue.categories'] = nearby_venues.apply(get_category_type, axis=1)\n",
    "\n",
    "# clean columns\n",
    "nearby_venues.columns = [col.split(\".\")[-1] for col in nearby_venues.columns]\n",
    "\n",
    "nearby_venues.head()"
   ]
  },
  {
   "cell_type": "code",
   "execution_count": null,
   "metadata": {},
   "outputs": [],
   "source": [
    "print('{} venues were returned by Foursquare.'.format(nearby_venues.shape[0]))"
   ]
  },
  {
   "cell_type": "code",
   "execution_count": null,
   "metadata": {},
   "outputs": [],
   "source": [
    "def getNearbyVenues(names, latitudes, longitudes, radius=500):\n",
    "    \n",
    "    venues_list=[]\n",
    "    for name, lat, lng in zip(names, latitudes, longitudes):\n",
    "        print(name)\n",
    "            \n",
    "        # create the API request URL\n",
    "        url = 'https://api.foursquare.com/v2/venues/explore?&client_id={}&client_secret={}&v={}&ll={},{}&radius={}&limit={}'.format(\n",
    "            CLIENT_ID, \n",
    "            CLIENT_SECRET, \n",
    "            VERSION, \n",
    "            lat, \n",
    "            lng, \n",
    "            radius, \n",
    "            LIMIT)\n",
    "            \n",
    "        # make the GET request\n",
    "        results = requests.get(url).json()[\"response\"]['groups'][0]['items']\n",
    "        \n",
    "        # return only relevant information for each nearby venue\n",
    "        venues_list.append([(\n",
    "            name, \n",
    "            lat, \n",
    "            lng, \n",
    "            v['venue']['name'], \n",
    "            v['venue']['location']['lat'], \n",
    "            v['venue']['location']['lng'],  \n",
    "            v['venue']['categories'][0]['name']) for v in results])\n",
    "\n",
    "    nearby_venues = pd.DataFrame([item for venue_list in venues_list for item in venue_list])\n",
    "    nearby_venues.columns = ['Neighborhood', \n",
    "                  'Neighborhood Latitude', \n",
    "                  'Neighborhood Longitude', \n",
    "                  'Venue', \n",
    "                  'Venue Latitude', \n",
    "                  'Venue Longitude', \n",
    "                  'Venue Category']\n",
    "    \n",
    "    return(nearby_venues)"
   ]
  },
  {
   "cell_type": "code",
   "execution_count": null,
   "metadata": {},
   "outputs": [],
   "source": [
    "toronto_venues = getNearbyVenues(names=toronto_data['Neighborhood'],\n",
    "                                   latitudes=toronto_data['Latitude'],\n",
    "                                   longitudes=toronto_data['Longitude']\n",
    "                                  )\n"
   ]
  },
  {
   "cell_type": "code",
   "execution_count": null,
   "metadata": {},
   "outputs": [],
   "source": [
    "print(toronto_venues.shape)\n",
    "toronto_venues.head()"
   ]
  },
  {
   "cell_type": "code",
   "execution_count": null,
   "metadata": {},
   "outputs": [],
   "source": [
    "toronto_venues.groupby('Neighborhood').count()"
   ]
  },
  {
   "cell_type": "code",
   "execution_count": null,
   "metadata": {},
   "outputs": [],
   "source": [
    "print('There are {} uniques categories.'.format(len(toronto_venues['Venue Category'].unique())))"
   ]
  },
  {
   "cell_type": "code",
   "execution_count": null,
   "metadata": {},
   "outputs": [],
   "source": [
    "# one hot encoding\n",
    "toronto_onehot = pd.get_dummies(toronto_venues[['Venue Category']], prefix=\"\", prefix_sep=\"\")\n",
    "\n",
    "# add neighborhood column back to dataframe\n",
    "toronto_onehot['Neighborhood'] = toronto_venues['Neighborhood'] \n",
    "\n",
    "# move neighborhood column to the first column\n",
    "fixed_columns = [toronto_onehot.columns[-1]] + list(toronto_onehot.columns[:-1])\n",
    "toronto_onehot = toronto_onehot[fixed_columns]\n",
    "\n",
    "toronto_onehot.head()"
   ]
  },
  {
   "cell_type": "code",
   "execution_count": null,
   "metadata": {},
   "outputs": [],
   "source": [
    "toronto_onehot.shape"
   ]
  },
  {
   "cell_type": "code",
   "execution_count": null,
   "metadata": {},
   "outputs": [],
   "source": [
    "toronto_grouped = toronto_onehot.groupby('Neighborhood').mean().reset_index()\n",
    "toronto_grouped.head()"
   ]
  },
  {
   "cell_type": "code",
   "execution_count": null,
   "metadata": {},
   "outputs": [],
   "source": [
    "toronto_grouped.shape"
   ]
  },
  {
   "cell_type": "code",
   "execution_count": null,
   "metadata": {},
   "outputs": [],
   "source": [
    "num_top_venues = 5\n",
    "\n",
    "for hood in toronto_grouped['Neighborhood']:\n",
    "    print(\"----\"+hood+\"----\")\n",
    "    temp = toronto_grouped[toronto_grouped['Neighborhood'] == hood].T.reset_index()\n",
    "    temp.columns = ['venue','freq']\n",
    "    temp = temp.iloc[1:]\n",
    "    temp['freq'] = temp['freq'].astype(float)\n",
    "    temp = temp.round({'freq': 2})\n",
    "    print(temp.sort_values('freq', ascending=False).reset_index(drop=True).head(num_top_venues))\n",
    "    print('\\n')"
   ]
  },
  {
   "cell_type": "code",
   "execution_count": null,
   "metadata": {},
   "outputs": [],
   "source": [
    "def return_most_common_venues(row, num_top_venues):\n",
    "    row_categories = row.iloc[1:]\n",
    "    row_categories_sorted = row_categories.sort_values(ascending=False)\n",
    "    \n",
    "    return row_categories_sorted.index.values[0:num_top_venues]"
   ]
  },
  {
   "cell_type": "code",
   "execution_count": null,
   "metadata": {},
   "outputs": [],
   "source": [
    "num_top_venues = 10\n",
    "\n",
    "indicators = ['st', 'nd', 'rd']\n",
    "\n",
    "# create columns according to number of top venues\n",
    "columns = ['Neighborhood']\n",
    "for ind in np.arange(num_top_venues):\n",
    "    try:\n",
    "        columns.append('{}{} Most Common Venue'.format(ind+1, indicators[ind]))\n",
    "    except:\n",
    "        columns.append('{}th Most Common Venue'.format(ind+1))\n",
    "\n",
    "# create a new dataframe\n",
    "neighborhoods_venues_sorted = pd.DataFrame(columns=columns)\n",
    "neighborhoods_venues_sorted['Neighborhood'] = toronto_grouped['Neighborhood']\n",
    "\n",
    "for ind in np.arange(toronto_grouped.shape[0]):\n",
    "    neighborhoods_venues_sorted.iloc[ind, 1:] = return_most_common_venues(toronto_grouped.iloc[ind, :], num_top_venues)\n",
    "\n",
    "neighborhoods_venues_sorted.head()"
   ]
  },
  {
   "cell_type": "code",
   "execution_count": null,
   "metadata": {},
   "outputs": [],
   "source": [
    "# set number of clusters\n",
    "kclusters = 7\n",
    "\n",
    "toronto_grouped_clustering = toronto_grouped.drop('Neighborhood', 1)\n",
    "\n",
    "# run k-means clustering\n",
    "kmeans = KMeans(n_clusters=kclusters, random_state=0).fit(toronto_grouped_clustering)\n",
    "\n",
    "# check cluster labels generated for each row in the dataframe\n",
    "kmeans.labels_[0:10] "
   ]
  },
  {
   "cell_type": "code",
   "execution_count": null,
   "metadata": {},
   "outputs": [],
   "source": [
    "# add clustering labels\n",
    "neighborhoods_venues_sorted.insert(0, 'Cluster Labels', kmeans.labels_)\n",
    "\n",
    "toronto_merged = toronto_data\n",
    "\n",
    "# merge toronto_grouped with toronto_data to add latitude/longitude for each neighborhood\n",
    "toronto_merged = toronto_merged.join(neighborhoods_venues_sorted.set_index('Neighborhood'), on='Neighborhood')\n",
    "\n",
    "toronto_merged.head() # check the last columns!"
   ]
  },
  {
   "cell_type": "code",
   "execution_count": null,
   "metadata": {},
   "outputs": [],
   "source": [
    "# create map\n",
    "map_clusters = folium.Map(location=[latitude, longitude], zoom_start=11)\n",
    "\n",
    "# set color scheme for the clusters\n",
    "x = np.arange(kclusters)\n",
    "ys = [i + x + (i*x)**2 for i in range(kclusters)]\n",
    "colors_array = cm.rainbow(np.linspace(0, 1, len(ys)))\n",
    "rainbow = [colors.rgb2hex(i) for i in colors_array]\n",
    "\n",
    "# add markers to the map\n",
    "markers_colors = []\n",
    "for lat, lon, poi, cluster in zip(toronto_merged['Latitude'], toronto_merged['Longitude'], toronto_merged['Neighborhood'], toronto_merged['Cluster Labels']):\n",
    "    label = folium.Popup(str(poi) + ' Cluster ' + str(cluster), parse_html=True)\n",
    "    folium.CircleMarker(\n",
    "        [lat, lon],\n",
    "        radius=5,\n",
    "        popup=label,\n",
    "        color=rainbow[cluster-1],\n",
    "        fill=True,\n",
    "        fill_color=rainbow[cluster-1],\n",
    "        fill_opacity=0.7).add_to(map_clusters)\n",
    "       \n",
    "map_clusters"
   ]
  },
  {
   "cell_type": "code",
   "execution_count": null,
   "metadata": {},
   "outputs": [],
   "source": [
    "toronto_merged.loc[toronto_merged['Cluster Labels'] == 0, toronto_merged.columns[[1] + list(range(5, toronto_merged.shape[1]))]]"
   ]
  },
  {
   "cell_type": "code",
   "execution_count": null,
   "metadata": {},
   "outputs": [],
   "source": [
    "toronto_merged.loc[toronto_merged['Cluster Labels'] == 1, toronto_merged.columns[[1] + list(range(5, toronto_merged.shape[1]))]]"
   ]
  },
  {
   "cell_type": "code",
   "execution_count": null,
   "metadata": {},
   "outputs": [],
   "source": [
    "toronto_merged.loc[toronto_merged['Cluster Labels'] == 2, toronto_merged.columns[[2] + list(range(5, toronto_merged.shape[1]))]]"
   ]
  },
  {
   "cell_type": "code",
   "execution_count": null,
   "metadata": {},
   "outputs": [],
   "source": [
    "toronto_merged.loc[toronto_merged['Cluster Labels'] == 3, toronto_merged.columns[[3] + list(range(5, toronto_merged.shape[1]))]]"
   ]
  },
  {
   "cell_type": "code",
   "execution_count": null,
   "metadata": {},
   "outputs": [],
   "source": [
    "toronto_merged.loc[toronto_merged['Cluster Labels'] == 4, toronto_merged.columns[[4] + list(range(5, toronto_merged.shape[1]))]]"
   ]
  },
  {
   "cell_type": "code",
   "execution_count": null,
   "metadata": {},
   "outputs": [],
   "source": [
    "toronto_merged.loc[toronto_merged['Cluster Labels'] == 5, toronto_merged.columns[[5] + list(range(5, toronto_merged.shape[1]))]]"
   ]
  },
  {
   "cell_type": "code",
   "execution_count": null,
   "metadata": {},
   "outputs": [],
   "source": []
  }
 ],
 "metadata": {
  "kernelspec": {
   "display_name": "Python 3",
   "language": "python",
   "name": "python3"
  },
  "language_info": {
   "codemirror_mode": {
    "name": "ipython",
    "version": 3
   },
   "file_extension": ".py",
   "mimetype": "text/x-python",
   "name": "python",
   "nbconvert_exporter": "python",
   "pygments_lexer": "ipython3",
   "version": "3.8.3"
  }
 },
 "nbformat": 4,
 "nbformat_minor": 4
}
