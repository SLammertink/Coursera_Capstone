{
 "cells": [
  {
   "cell_type": "markdown",
   "metadata": {},
   "source": [
    "<h2>Introduction/Business Problem</h2>"
   ]
  },
  {
   "cell_type": "markdown",
   "metadata": {},
   "source": [
    "The idea is to start a Russian restaurant in Amsterdam, the Netherlands, as this city has a lot of restaurants already but not many Russian restaurants\n",
    "and the idea is to examine the city of Amsterdam for the best location"
   ]
  },
  {
   "cell_type": "markdown",
   "metadata": {},
   "source": [
    "<h2>Data section</h2>"
   ]
  },
  {
   "cell_type": "markdown",
   "metadata": {},
   "source": [
    "I will use the following resources to achieve the goal:\n",
    "    \n",
    "<h2>BeautifulSoup</h2>We need to scrape the Wikipedia page to get the neighborhoods in Amsterdam.\n",
    "<h2>GeoPy</h2>After scraping all the neighbourhoods we need to get their latitide and longitide using GeoPy\n",
    "<h2>Folium</h2>We then plot the nighborhoods on the map using Folium\n",
    "<h2>SKlearn</h2>We then use to sklearn library for clustering\n",
    "<h2>Foursquare API</h2>We use this api to get the most popular locations in our neighborhoods.\n",
    "    "
   ]
  },
  {
   "cell_type": "code",
   "execution_count": null,
   "metadata": {},
   "outputs": [],
   "source": []
  }
 ],
 "metadata": {
  "kernelspec": {
   "display_name": "Python 3",
   "language": "python",
   "name": "python3"
  },
  "language_info": {
   "codemirror_mode": {
    "name": "ipython",
    "version": 3
   },
   "file_extension": ".py",
   "mimetype": "text/x-python",
   "name": "python",
   "nbconvert_exporter": "python",
   "pygments_lexer": "ipython3",
   "version": "3.8.3"
  }
 },
 "nbformat": 4,
 "nbformat_minor": 4
}
